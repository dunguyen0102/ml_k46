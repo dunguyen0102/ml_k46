{
  "nbformat": 4,
  "nbformat_minor": 0,
  "metadata": {
    "colab": {
      "provenance": [],
      "authorship_tag": "ABX9TyO8XTqXfDOAzjUIjvgjiJBK",
      "include_colab_link": true
    },
    "kernelspec": {
      "name": "python3",
      "display_name": "Python 3"
    },
    "language_info": {
      "name": "python"
    }
  },
  "cells": [
    {
      "cell_type": "markdown",
      "metadata": {
        "id": "view-in-github",
        "colab_type": "text"
      },
      "source": [
        "<a href=\"https://colab.research.google.com/github/dunguyen0102/ml_k46/blob/main/IRIS_GMM_ChatGPT.ipynb\" target=\"_parent\"><img src=\"https://colab.research.google.com/assets/colab-badge.svg\" alt=\"Open In Colab\"/></a>"
      ]
    },
    {
      "cell_type": "markdown",
      "source": [
        "# Import các thư viện"
      ],
      "metadata": {
        "id": "wDGULsiKr1lS"
      }
    },
    {
      "cell_type": "code",
      "source": [
        "import numpy as np\n",
        "import matplotlib.pyplot as plt\n",
        "from sklearn.datasets import load_iris\n",
        "from sklearn.decomposition import PCA\n",
        "from sklearn.preprocessing import StandardScaler\n",
        "from sklearn.cluster import KMeans\n",
        "from sklearn.mixture import GaussianMixture\n",
        "from sklearn.metrics import adjusted_rand_score"
      ],
      "metadata": {
        "id": "KtsS9nejpRHt"
      },
      "execution_count": 52,
      "outputs": []
    },
    {
      "cell_type": "markdown",
      "source": [
        "# Load dataset và sử dụng StandardScaler, PCA để tiền xử lý dữ liệu"
      ],
      "metadata": {
        "id": "pHlvS0YOr7X0"
      }
    },
    {
      "cell_type": "code",
      "execution_count": 53,
      "metadata": {
        "id": "ojGakgAroSrE"
      },
      "outputs": [],
      "source": [
        "# Load the iris dataset\n",
        "iris = load_iris()\n",
        "\n",
        "# Scale the dataset\n",
        "scaler = StandardScaler()\n",
        "X = scaler.fit_transform(iris.data)\n",
        "\n",
        "# Apply PCA to select 2 components\n",
        "pca = PCA(n_components=2)\n",
        "X_pca = pca.fit_transform(X)\n"
      ]
    },
    {
      "cell_type": "markdown",
      "source": [
        "# Dữ liệu sau khi lấy 2 thành phần chính bằng PCA"
      ],
      "metadata": {
        "id": "rhUih2n2sDDA"
      }
    },
    {
      "cell_type": "code",
      "source": [
        "# Plot the results\n",
        "colors = ['r', 'g', 'b']\n",
        "for i in range(3):\n",
        "    plt.scatter(X_pca[iris.target == i, 0], X_pca[iris.target == i, 1], c=colors[i], label=iris.target_names[i])\n",
        "plt.legend()\n",
        "plt.title('Iris Dataset after PCA')\n",
        "plt.show()"
      ],
      "metadata": {
        "colab": {
          "base_uri": "https://localhost:8080/",
          "height": 281
        },
        "id": "aiNGHnS_o4pa",
        "outputId": "2918f14b-2c88-4df4-e192-02e5a2bd0d83"
      },
      "execution_count": 54,
      "outputs": [
        {
          "output_type": "display_data",
          "data": {
            "text/plain": [
              "<Figure size 432x288 with 1 Axes>"
            ],
            "image/png": "[encoded data removed]"
          },
          "metadata": {
            "needs_background": "light"
          }
        }
      ]
    },
    {
      "cell_type": "markdown",
      "source": [
        "# Áp dụng kmeans để cluster thành 3 cụm"
      ],
      "metadata": {
        "id": "quidQvaCsKTs"
      }
    },
    {
      "cell_type": "code",
      "source": [
        "# Apply K-Means with k=3\n",
        "kmeans = KMeans(n_clusters=3)\n",
        "kmeans.fit(X_pca)\n",
        "\n",
        "# Predict the clusters\n",
        "y_pred = kmeans.predict(X_pca)\n"
      ],
      "metadata": {
        "id": "0blFIMRFpM8j"
      },
      "execution_count": 55,
      "outputs": []
    },
    {
      "cell_type": "markdown",
      "source": [
        "# Kết quả sau khi gom cụm bằng KMeans\n"
      ],
      "metadata": {
        "id": "sRPFOGXNsPbL"
      }
    },
    {
      "cell_type": "code",
      "source": [
        "\n",
        "# Plot the results\n",
        "colors = ['r', 'g', 'b']\n",
        "for i in range(3):\n",
        "    plt.scatter(X_pca[y_pred == i, 0], X_pca[y_pred == i, 1], c=colors[i], label=f'Cluster {i+1}')\n",
        "plt.scatter(kmeans.cluster_centers_[:, 0], kmeans.cluster_centers_[:, 1], marker='x', s=200, linewidths=3, color='k', label='Centroids')\n",
        "plt.legend()\n",
        "plt.title('K-Means Clustering with PCA for Iris Dataset')\n",
        "plt.show()"
      ],
      "metadata": {
        "colab": {
          "base_uri": "https://localhost:8080/",
          "height": 281
        },
        "id": "B4adpAUBqpi-",
        "outputId": "c1a67d65-1bcf-4785-9962-ba539bf8f648"
      },
      "execution_count": 56,
      "outputs": [
        {
          "output_type": "display_data",
          "data": {
            "text/plain": [
              "<Figure size 432x288 with 1 Axes>"
            ],
            "image/png": "[encoded data removed]"
          },
          "metadata": {
            "needs_background": "light"
          }
        }
      ]
    },
    {
      "cell_type": "markdown",
      "source": [
        "# Tính adjusted_rand_score"
      ],
      "metadata": {
        "id": "JpwY-aZ7sVQS"
      }
    },
    {
      "cell_type": "code",
      "source": [
        "ri_kmeans = adjusted_rand_score(iris.target, y_pred)\n",
        "\n",
        "print(f\"Adjusted Rand score for KMeans: {ri_kmeans:.3f}\")"
      ],
      "metadata": {
        "colab": {
          "base_uri": "https://localhost:8080/"
        },
        "id": "cnq_dmmlqgd3",
        "outputId": "f7606427-6ffc-40fc-cc2f-d5efd5ccb81b"
      },
      "execution_count": 57,
      "outputs": [
        {
          "output_type": "stream",
          "name": "stdout",
          "text": [
            "Adjusted Rand score for KMeans: 0.601\n"
          ]
        }
      ]
    },
    {
      "cell_type": "code",
      "source": [
        "# Fit the Gaussian Mixture Model\n",
        "gmm = GaussianMixture(n_components=3)\n",
        "gmm.fit(X_pca)\n",
        "\n",
        "# Predict the clusters\n",
        "y_pred = gmm.predict(X_pca)"
      ],
      "metadata": {
        "id": "4dasOR03qEYK"
      },
      "execution_count": 58,
      "outputs": []
    },
    {
      "cell_type": "markdown",
      "source": [
        "# Tính adjusted_rand_score"
      ],
      "metadata": {
        "id": "8yy4WLMcsbSD"
      }
    },
    {
      "cell_type": "code",
      "source": [
        "ri_gmm = adjusted_rand_score(iris.target, y_pred)\n",
        "\n",
        "print(f\"Adjusted Rand score for GMM: {ri_gmm:.3f}\")"
      ],
      "metadata": {
        "colab": {
          "base_uri": "https://localhost:8080/"
        },
        "id": "AVPjqqbiqYFa",
        "outputId": "325d11a4-212f-4316-f6b2-be1a3b20ef21"
      },
      "execution_count": 59,
      "outputs": [
        {
          "output_type": "stream",
          "name": "stdout",
          "text": [
            "Adjusted Rand score for GMM: 0.689\n"
          ]
        }
      ]
    },
    {
      "cell_type": "markdown",
      "source": [
        "# Kết quả sau khi gom cụm bằng GMM"
      ],
      "metadata": {
        "id": "KJIZTNyZsfvy"
      }
    },
    {
      "cell_type": "code",
      "source": [
        "# Plot the results\n",
        "colors = ['r', 'g', 'b']\n",
        "for i in range(3):\n",
        "    plt.scatter(X_pca[y_pred == i, 0], X_pca[y_pred == i, 1], c=colors[i], label=f'Cluster {i+1}')\n",
        "plt.legend()\n",
        "plt.title('Gaussian Mixture Model for Iris Dataset')\n",
        "plt.show()"
      ],
      "metadata": {
        "colab": {
          "base_uri": "https://localhost:8080/",
          "height": 281
        },
        "id": "M1MLbS_zocPA",
        "outputId": "8a9acf23-33fd-476a-fb51-865e5628b9ca"
      },
      "execution_count": 60,
      "outputs": [
        {
          "output_type": "display_data",
          "data": {
            "text/plain": [
              "<Figure size 432x288 with 1 Axes>"
            ],
            "image/png": "[encoded data removed]"
          },
          "metadata": {
            "needs_background": "light"
          }
        }
      ]
    }
  ]
}