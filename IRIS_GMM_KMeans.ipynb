{
  "nbformat": 4,
  "nbformat_minor": 0,
  "metadata": {
    "colab": {
      "provenance": [],
      "authorship_tag": "ABX9TyPO6401Aioxt7kmR4P3Mwd+",
      "include_colab_link": true
    },
    "kernelspec": {
      "name": "python3",
      "display_name": "Python 3"
    },
    "language_info": {
      "name": "python"
    }
  },
  "cells": [
    {
      "cell_type": "markdown",
      "metadata": {
        "id": "view-in-github",
        "colab_type": "text"
      },
      "source": [
        "<a href=\"https://colab.research.google.com/github/dunguyen0102/ml_k46/blob/main/IRIS_GMM_KMeans.ipynb\" target=\"_parent\"><img src=\"https://colab.research.google.com/assets/colab-badge.svg\" alt=\"Open In Colab\"/></a>"
      ]
    },
    {
      "cell_type": "markdown",
      "source": [
        "# Import các thư viện"
      ],
      "metadata": {
        "id": "wDGULsiKr1lS"
      }
    },
    {
      "cell_type": "code",
      "source": [
        "import numpy as np\n",
        "import matplotlib.pyplot as plt\n",
        "from sklearn.datasets import load_iris\n",
        "from sklearn.decomposition import PCA\n",
        "from sklearn.preprocessing import StandardScaler\n",
        "from sklearn.cluster import KMeans\n",
        "from sklearn.mixture import GaussianMixture\n",
        "from sklearn.metrics import adjusted_rand_score"
      ],
      "metadata": {
        "id": "KtsS9nejpRHt"
      },
      "execution_count": 65,
      "outputs": []
    },
    {
      "cell_type": "markdown",
      "source": [
        "# Load dataset \n",
        "Dataset IRIS gồm 150 mẫu dữ liệu, 5 thuộc tính:\n",
        "\n",
        "    \n",
        "\n",
        "1.   sepal length in cm\n",
        "2.   sepal width in cm\n",
        "3.   petal length in cm\n",
        "4.   petal width in cm\n",
        "5.   **class**: (3 loại hoa) Iris Setosa, Iris Versicolour, Iris Virginica\n",
        "\n",
        "    \n",
        "    \n",
        "    \n"
      ],
      "metadata": {
        "id": "pHlvS0YOr7X0"
      }
    },
    {
      "cell_type": "code",
      "execution_count": 66,
      "metadata": {
        "id": "ojGakgAroSrE"
      },
      "outputs": [],
      "source": [
        "# Load iris dataset\n",
        "iris = load_iris()\n"
      ]
    },
    {
      "cell_type": "markdown",
      "source": [
        "# Tiền xử lý dữ liệu\n",
        "\n",
        "1.   Dữ liệu được scale bằng StandardScaler, sau đó normalize lại\n",
        "2.   PCA được sử dụng để lấy ra 2 thành phần chính, PC1 và PC2 phục vụ cho clustering"
      ],
      "metadata": {
        "id": "WKSDq6A3c8tN"
      }
    },
    {
      "cell_type": "code",
      "source": [
        "# \n",
        "scaler = StandardScaler()\n",
        "X = scaler.fit_transform(iris.data)"
      ],
      "metadata": {
        "id": "UCIBxSLWb1UZ"
      },
      "execution_count": 67,
      "outputs": []
    },
    {
      "cell_type": "code",
      "source": [
        "# Sử dụng PCA để lấy ra 2 thành phần chính\n",
        "pca = PCA(n_components=2)\n",
        "X_principal = pca.fit_transform(X)"
      ],
      "metadata": {
        "id": "nsXbN0nmb3M0"
      },
      "execution_count": 68,
      "outputs": []
    },
    {
      "cell_type": "markdown",
      "source": [
        "# Dữ liệu sau khi lấy 2 thành phần chính bằng PCA"
      ],
      "metadata": {
        "id": "rhUih2n2sDDA"
      }
    },
    {
      "cell_type": "code",
      "source": [
        "# Plot dữ liệu sau khi xử lý\n",
        "colors = ['r', 'g', 'b']\n",
        "for i in range(3):\n",
        "    plt.scatter(X_principal[iris.target == i, 0], X_principal[iris.target == i, 1], c=colors[i], label=iris.target_names[i])\n",
        "plt.xlabel('PC1')\n",
        "plt.ylabel('PC2')\n",
        "plt.legend()\n",
        "plt.title('Hình 1. Dữ liệu sau khi PCA')\n",
        "plt.show()"
      ],
      "metadata": {
        "colab": {
          "base_uri": "https://localhost:8080/",
          "height": 295
        },
        "id": "aiNGHnS_o4pa",
        "outputId": "dd211da4-ecbc-4430-8103-5e18e0450e08"
      },
      "execution_count": 69,
      "outputs": [
        {
          "output_type": "display_data",
          "data": {
            "text/plain": [
              "<Figure size 432x288 with 1 Axes>"
            ],
            "image/png": "[encoded data removed]"
          },
          "metadata": {
            "needs_background": "light"
          }
        }
      ]
    },
    {
      "cell_type": "markdown",
      "source": [
        "# Áp dụng kmeans để chia dataset thành 3 cụm\n",
        "\n"
      ],
      "metadata": {
        "id": "quidQvaCsKTs"
      }
    },
    {
      "cell_type": "code",
      "source": [
        "# Apply K-Means with k=3\n",
        "kmeans = KMeans(n_clusters=3)\n",
        "kmeans.fit(X_principal)\n",
        "\n",
        "# Predict the clusters\n",
        "y_pred_kmeans = kmeans.predict(X_principal)\n"
      ],
      "metadata": {
        "id": "0blFIMRFpM8j"
      },
      "execution_count": 70,
      "outputs": []
    },
    {
      "cell_type": "markdown",
      "source": [
        "# Kết quả sau khi gom cụm bằng KMeans\n"
      ],
      "metadata": {
        "id": "sRPFOGXNsPbL"
      }
    },
    {
      "cell_type": "code",
      "source": [
        "colors = ['r', 'g', 'b']\n",
        "for i in range(3):\n",
        "    plt.scatter(X_principal[y_pred_kmeans == i, 0], X_principal[y_pred_kmeans == i, 1], c=colors[i], label=f'Cluster {i+1}')\n",
        "plt.scatter(kmeans.cluster_centers_[:, 0], kmeans.cluster_centers_[:, 1], marker='x', s=200, linewidths=3, color='k', label='Centroids')\n",
        "plt.xlabel('PC1')\n",
        "plt.ylabel('PC2')\n",
        "plt.legend()\n",
        "plt.title('Hình 2. Kết quả gom cụm với KMeans')\n",
        "plt.show()"
      ],
      "metadata": {
        "colab": {
          "base_uri": "https://localhost:8080/",
          "height": 296
        },
        "id": "B4adpAUBqpi-",
        "outputId": "15a08fb9-7bbb-41f7-edd6-69a1df15723f"
      },
      "execution_count": 71,
      "outputs": [
        {
          "output_type": "display_data",
          "data": {
            "text/plain": [
              "<Figure size 432x288 with 1 Axes>"
            ],
            "image/png": "[encoded data removed]"
          },
          "metadata": {
            "needs_background": "light"
          }
        }
      ]
    },
    {
      "cell_type": "markdown",
      "source": [
        "# Áp dụng GMM để chia dataset thành 3 cụm\n"
      ],
      "metadata": {
        "id": "RjfBsWt9f-hY"
      }
    },
    {
      "cell_type": "code",
      "source": [
        "gmm = GaussianMixture(n_components=3)\n",
        "gmm.fit(X_principal)\n",
        "\n",
        "# Predict the clusters\n",
        "y_pred_gmm = gmm.predict(X_principal)"
      ],
      "metadata": {
        "id": "4dasOR03qEYK"
      },
      "execution_count": 72,
      "outputs": []
    },
    {
      "cell_type": "markdown",
      "source": [
        "# Kết quả sau khi gom cụm bằng GMM"
      ],
      "metadata": {
        "id": "KJIZTNyZsfvy"
      }
    },
    {
      "cell_type": "code",
      "source": [
        "colors = ['r', 'g', 'b']\n",
        "for i in range(3):\n",
        "    plt.scatter(X_principal[y_pred_gmm == i, 0], X_principal[y_pred_gmm == i, 1], c=colors[i], label=f'Cluster {i+1}')\n",
        "plt.xlabel('PC1')\n",
        "plt.ylabel('PC2')\n",
        "plt.legend()\n",
        "plt.title('Hình 3. Kết quả gom cụm với Gaussian Mixture Model')\n",
        "plt.show()"
      ],
      "metadata": {
        "colab": {
          "base_uri": "https://localhost:8080/",
          "height": 296
        },
        "id": "M1MLbS_zocPA",
        "outputId": "b9897591-dcc3-4c72-e1e8-96f3432d7d6f"
      },
      "execution_count": 73,
      "outputs": [
        {
          "output_type": "display_data",
          "data": {
            "text/plain": [
              "<Figure size 432x288 with 1 Axes>"
            ],
            "image/png": "[encoded data removed]"
          },
          "metadata": {
            "needs_background": "light"
          }
        }
      ]
    },
    {
      "cell_type": "markdown",
      "source": [
        "Từ kết quả gom cụm bằng phương pháp KMeans và GMM ở 2 hình trên, có thể thấy phương pháp GMM cho ra kết quả gom cụm tốt hơn.\n",
        "Để rõ hơn về điều này, nhóm sử dụng Adjusted Rand Score để so sánh kết quả giữa 2 phương pháp này."
      ],
      "metadata": {
        "id": "7WcdWINeidLj"
      }
    },
    {
      "cell_type": "markdown",
      "source": [
        "# Tính adjusted_rand_score"
      ],
      "metadata": {
        "id": "8yy4WLMcsbSD"
      }
    },
    {
      "cell_type": "code",
      "source": [
        "ri_kmeans = adjusted_rand_score(iris.target, y_pred_kmeans)\n",
        "\n",
        "print(f\"Adjusted Rand score với KMeans: {ri_kmeans:.3f}\")\n",
        "\n",
        "ri_gmm = adjusted_rand_score(iris.target, y_pred_gmm)\n",
        "\n",
        "print(f\"Adjusted Rand score với GMM: {ri_gmm:.3f}\")"
      ],
      "metadata": {
        "colab": {
          "base_uri": "https://localhost:8080/"
        },
        "id": "AVPjqqbiqYFa",
        "outputId": "db568e31-00be-4c0f-8c02-143ef5a15c6e"
      },
      "execution_count": 74,
      "outputs": [
        {
          "output_type": "stream",
          "name": "stdout",
          "text": [
            "Adjusted Rand score với KMeans: 0.620\n",
            "Adjusted Rand score với GMM: 0.716\n"
          ]
        }
      ]
    },
    {
      "cell_type": "markdown",
      "source": [
        "Dựa vào Adjusted Rand Score, phương pháp GMM có kết quả gom cụm tốt hơn KMeans. Mặc dù, đây chưa phải là kết quả tốt nhất nếu so với dữ liệu sau khi dùng PCA (Hình 1). "
      ],
      "metadata": {
        "id": "65Y7yALRjv3i"
      }
    }
  ]
}